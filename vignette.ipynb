{
 "cells": [
  {
   "cell_type": "markdown",
   "id": "f7cdb6a8",
   "metadata": {},
   "source": [
    "# OntoVAE workflow"
   ]
  },
  {
   "cell_type": "code",
   "execution_count": null,
   "id": "3b445407",
   "metadata": {},
   "outputs": [],
   "source": [
    "# import modules\n",
    "import os\n",
    "from onto_vae.ontobj import *\n",
    "from onto_vae.vae_model import *\n"
   ]
  },
  {
   "cell_type": "markdown",
   "id": "52cd7a7f",
   "metadata": {},
   "source": [
    "## 1. Creation of Ontology object"
   ]
  },
  {
   "cell_type": "markdown",
   "id": "080df092",
   "metadata": {},
   "source": [
    "First, we need to initialize an Ontobj. This is required by OntoVAE to initialize latent space and decoder and train the model. The Ontobj stores information about:\n",
    "   - The ontology used\n",
    "  - datasets that were matched to this ontology so that they can be used for trainind or passed through the VAE model."
   ]
  },
  {
   "cell_type": "markdown",
   "source": [
    "### Process ontology data"
   ],
   "metadata": {
    "collapsed": false
   },
   "id": "ddc654bbe1b1f475"
  },
  {
   "cell_type": "markdown",
   "source": [
    "- processing `.obo` file:  \n",
    "    - filter terms if needed\n",
    "    - create the term annotate dataframe\n",
    "    - creaet a graph_base: a dictionary with ontology relationships (children -> parents).\n",
    "- processing `gene_term_mapping.txt` file: \n",
    "    - create gene base\n",
    "    - update the term annotate dataframe by adding columns:\n",
    "        - `descendants`: number of descendant terms\n",
    "        - `desc_genes`: number of genes annotated to term and all its descendants\n",
    "        - `genes`: number of genes directly annotated to term\n",
    "    - update the graph_base: add gene keys in the dict, so the graph will include both genes and terms."
   ],
   "metadata": {
    "collapsed": false
   },
   "id": "2e052ca85f805927"
  },
  {
   "cell_type": "markdown",
   "source": [
    "The processed results will be stored in the following slots in the initialized `Ontobj` object."
   ],
   "metadata": {
    "collapsed": false
   },
   "id": "8d01d05ded13cb9e"
  },
  {
   "cell_type": "markdown",
   "source": [
    "```python\n",
    "# fill the basic slots\n",
    "self.annot_base = annot_updated\n",
    "self.genes_base = sorted(list(set(gene_annot.Gene.tolist())))\n",
    "term_dict.update(gene_term_dict)\n",
    "self.graph_base = term_dict\n",
    "\n",
    "```"
   ],
   "metadata": {
    "collapsed": false
   },
   "id": "5afd11e482398c7f"
  },
  {
   "cell_type": "code",
   "execution_count": null,
   "id": "colored-modeling",
   "metadata": {},
   "outputs": [],
   "source": [
    "# initialize the Ontobj\n",
    "# the description should be an identifier, e.g. the ontology used, here: PWO (Pathway Ontology)\n",
    "pwo = Ontobj(description='PWO')"
   ]
  },
  {
   "cell_type": "code",
   "execution_count": null,
   "id": "e3c781a1",
   "metadata": {},
   "outputs": [],
   "source": [
    "# initialize our ontology\n",
    "# obo: path to an obo file\n",
    "# gene_annot: path to a tab separated file with two columns: Genes and Ontology IDs\n",
    "pwo.initialize_dag(obo=data_path() + 'pw.obo',\n",
    "                   gene_annot=data_path() + 'gene_term_mapping.txt')"
   ]
  },
  {
   "cell_type": "code",
   "execution_count": null,
   "outputs": [],
   "source": [
    "pwo.annot_base"
   ],
   "metadata": {
    "collapsed": false
   },
   "id": "e3dff7b3388cc478"
  },
  {
   "cell_type": "code",
   "execution_count": null,
   "outputs": [],
   "source": [
    "genes_base = pwo.genes_base"
   ],
   "metadata": {
    "collapsed": false
   },
   "id": "1e36003fde6aba4b"
  },
  {
   "cell_type": "code",
   "execution_count": null,
   "outputs": [],
   "source": [
    "graph_base = pwo.graph_base"
   ],
   "metadata": {
    "collapsed": false
   },
   "id": "b90800fe04b042f"
  },
  {
   "cell_type": "code",
   "outputs": [],
   "source": [
    "filtered_graph_base = {key: value for key, value in graph_base.items() if not key.startswith(\"PW\")}\n",
    "\n",
    "print(filtered_graph_base)"
   ],
   "metadata": {
    "collapsed": false
   },
   "id": "4053fe566c2da6c",
   "execution_count": null
  },
  {
   "cell_type": "markdown",
   "source": [
    "### Trim the ontology"
   ],
   "metadata": {
    "collapsed": false
   },
   "id": "3a60ed72f5e96559"
  },
  {
   "cell_type": "markdown",
   "source": [
    "DAG is trimmed based on user-defined thresholds. Trimmed version is saved in the graph, annot and genes slots.\n",
    "```python\n",
    "# save trimming results in respective slots\n",
    "self.annot[str(top_thresh) + '_' + str(bottom_thresh)] = new_annot\n",
    "self.graph[str(top_thresh) + '_' + str(bottom_thresh)] = term_dict_trim\n",
    "self.genes[str(top_thresh) + '_' + str(bottom_thresh)] = sorted(list(gene_trim.keys()))\n",
    "self.desc_genes[str(top_thresh) + '_' + str(bottom_thresh)] = desc_genes\n",
    "\n",
    "```"
   ],
   "metadata": {
    "collapsed": false
   },
   "id": "a19be3444b1c6c01"
  },
  {
   "cell_type": "code",
   "execution_count": null,
   "id": "ab4f74fe",
   "metadata": {},
   "outputs": [],
   "source": [
    "# trim the ontology\n",
    "pwo.trim_dag(top_thresh=1000, \n",
    "             bottom_thresh=30)"
   ]
  },
  {
   "cell_type": "code",
   "execution_count": null,
   "outputs": [],
   "source": [
    "pwo.graph"
   ],
   "metadata": {
    "collapsed": false
   },
   "id": "7abf886e2bdf8542"
  },
  {
   "cell_type": "code",
   "execution_count": null,
   "outputs": [],
   "source": [
    "pwo.annot"
   ],
   "metadata": {
    "collapsed": false
   },
   "id": "e357b856aca1ad55"
  },
  {
   "cell_type": "code",
   "execution_count": null,
   "outputs": [],
   "source": [
    "pwo.genes"
   ],
   "metadata": {
    "collapsed": false
   },
   "id": "83f921e762b0aa0a"
  },
  {
   "cell_type": "markdown",
   "source": [
    "### Visualize the ontolology"
   ],
   "metadata": {
    "collapsed": false
   },
   "id": "5be375366e8e2071"
  },
  {
   "cell_type": "markdown",
   "source": [
    "### Create masks for decoder "
   ],
   "metadata": {
    "collapsed": false
   },
   "id": "748ca03b1cd9b80"
  },
  {
   "cell_type": "markdown",
   "source": [
    "the masks generated is a list of 2d-array. The length of the list is the number of layers of decoder (the max depth of the ontology)."
   ],
   "metadata": {
    "collapsed": false
   },
   "id": "9e9d82623650bbb0"
  },
  {
   "cell_type": "code",
   "execution_count": null,
   "outputs": [],
   "source": [
    "# create masks for decoder initialization\n",
    "pwo.create_masks(top_thresh=1000,\n",
    "                 bottom_thresh=30)"
   ],
   "metadata": {
    "collapsed": false,
    "is_executing": true
   },
   "id": "d3519575d2c6c87f"
  },
  {
   "cell_type": "code",
   "outputs": [],
   "source": [
    "pwo.masks['1000_30']['decoder'][2].shape"
   ],
   "metadata": {
    "collapsed": false
   },
   "id": "2eec6e2986da906b",
   "execution_count": null
  },
  {
   "cell_type": "code",
   "execution_count": null,
   "id": "05c50018",
   "metadata": {},
   "outputs": [],
   "source": [
    "# match a dataset to the ontology\n",
    "# expr_path: path to the dataset (either h5ad)\n",
    "pwo.match_dataset(expr_data = data_path() + 'pbmc_sample_expr.csv',\n",
    "                  name='PBMC_CD4T')"
   ]
  },
  {
   "cell_type": "markdown",
   "id": "7bf2c97a",
   "metadata": {},
   "source": [
    "## 2. OntoVAE model training"
   ]
  },
  {
   "cell_type": "code",
   "execution_count": null,
   "id": "d36a52c8",
   "metadata": {},
   "outputs": [],
   "source": [
    "# initialize OntoVAE \n",
    "pwo_model = OntoVAE(ontobj=pwo,              # the Ontobj we will use\n",
    "                    dataset='PBMC_CD4T',     # which dataset from the Ontobj to use for model training\n",
    "                    top_thresh=1000,         # which trimmed version to use\n",
    "                    bottom_thresh=30)        # which trimmed version to use     \n",
    "pwo_model.to(pwo_model.device)         "
   ]
  },
  {
   "cell_type": "code",
   "execution_count": null,
   "id": "c2d90bdc",
   "metadata": {},
   "outputs": [],
   "source": [
    "# generate a directory where to store the best model\n",
    "if not os.path.isdir(os.getcwd() + '/models'):\n",
    "    os.mkdir(os.getcwd() + '/models')"
   ]
  },
  {
   "cell_type": "code",
   "execution_count": null,
   "id": "1dcaf87f",
   "metadata": {},
   "outputs": [],
   "source": [
    "# train the model\n",
    "pwo_model.train_model(os.getcwd() + '/models/best_model.pt',   # where to store the best model\n",
    "                     lr=1e-4,                                 # the learning rate\n",
    "                     kl_coeff=1e-4,                           # the weighting coefficient for the Kullback Leibler loss\n",
    "                     batch_size=128,                          # the size of the minibatches\n",
    "                     epochs=5)                                # over how many epochs to train                               # whether run should be logged to Neptune"
   ]
  },
  {
   "cell_type": "markdown",
   "id": "3aeb28f0",
   "metadata": {},
   "source": [
    "## 3. Analysis with OntoVAE model (pathway activities + perturbations)"
   ]
  },
  {
   "cell_type": "markdown",
   "id": "a77c9369",
   "metadata": {},
   "source": [
    "We can use a trained OntoVAE model to retrieve pathway activities from latent space and decoder, but also to perform in silico perturbations prior to retrieving the pathway activities."
   ]
  },
  {
   "cell_type": "code",
   "execution_count": null,
   "id": "3f4a44bc",
   "metadata": {},
   "outputs": [],
   "source": [
    "# load the best model\n",
    "checkpoint = torch.load(os.getcwd() + '/models/best_model.pt',\n",
    "                        map_location = torch.device(pwo_model.device), \n",
    "                        weights_only=True)\n",
    "pwo_model.load_state_dict(checkpoint['model_state_dict'])"
   ]
  },
  {
   "cell_type": "code",
   "execution_count": null,
   "id": "5227b7ea",
   "metadata": {},
   "outputs": [],
   "source": [
    "# retrieve pathway activities\n",
    "pwo_act = pwo_model.get_pathway_activities(ontobj=pwo,\n",
    "                                           dataset='PBMC_CD4T')"
   ]
  },
  {
   "cell_type": "markdown",
   "id": "cc596fa9",
   "metadata": {},
   "source": [
    "We can use a function of the Ontobj to make an example scatterplot for two pathways of our choice."
   ]
  },
  {
   "cell_type": "code",
   "execution_count": null,
   "id": "0fcfa78a",
   "metadata": {},
   "outputs": [],
   "source": [
    "# make scatterplot for two pathway activities\n",
    "pwo.plot_scatter(sample_annot = data_path() + 'pbmc_sample_annot.csv',   # pandas Dataframe or path to annotation file\n",
    "                 color_by = 'condition',                                 # variable to use for coloring\n",
    "                 act = pwo_act,                                          # pathway activities computed from OntoVAE model\n",
    "                 term1 = 'interferon mediated signaling pathway',        # term on x-axis of scatter plot\n",
    "                 term2 = 'T cell receptor signaling pathway',            # term on y-axis of scatter plot\n",
    "                 top_thresh = 1000,                                      # which trimmed version to use\n",
    "                 bottom_thresh = 30)                                     # which trimmed version to use\n",
    "\n",
    "# Note that the scatterplot displayed in the vignette was trained over 200 epochs!"
   ]
  },
  {
   "cell_type": "markdown",
   "id": "70d3fce5",
   "metadata": {},
   "source": [
    "We can now perform in silico perturbations and Wilcoxon tests to see which terms are influenced most."
   ]
  },
  {
   "cell_type": "code",
   "execution_count": null,
   "id": "6b64ebc0",
   "metadata": {},
   "outputs": [],
   "source": [
    "# get pathway activities where ISG15 was perturbed\n",
    "pwo_ko_act = pwo_model.perturbation(ontobj=pwo,\n",
    "                                    dataset='PBMC_CD4T',\n",
    "                                    genes=['ISG15'],        # list of genes to be perturbed\n",
    "                                    values=[0])             # list of new values for the genes"
   ]
  },
  {
   "cell_type": "markdown",
   "id": "67e9a470",
   "metadata": {},
   "source": [
    "We can use a function of the Ontobj to perform a paired Wilcoxon test between perturbed and non-perturbed for all terms of the ontology and get a ranked dataframe"
   ]
  },
  {
   "cell_type": "code",
   "execution_count": null,
   "id": "0b376cb0",
   "metadata": {},
   "outputs": [],
   "source": [
    "# perform paired Wilcoxon test\n",
    "results = pwo.wilcox_test(control = pwo_act,\n",
    "                          perturbed = pwo_ko_act,\n",
    "                          direction = 'down',\n",
    "                          top_thresh=1000,\n",
    "                          bottom_thresh=30)"
   ]
  },
  {
   "cell_type": "code",
   "execution_count": null,
   "id": "adca4442",
   "metadata": {},
   "outputs": [],
   "source": [
    "# display the top results\n",
    "results.head(10)"
   ]
  },
  {
   "cell_type": "markdown",
   "id": "8940e125",
   "metadata": {},
   "source": [
    "We see that when we modulate ISG15 expression, our top hits are all pathways related to the immune response!"
   ]
  },
  {
   "cell_type": "code",
   "execution_count": null,
   "id": "844d16bb",
   "metadata": {},
   "outputs": [],
   "source": []
  }
 ],
 "metadata": {
  "kernelspec": {
   "display_name": "Python 3 (ipykernel)",
   "language": "python",
   "name": "python3"
  },
  "language_info": {
   "codemirror_mode": {
    "name": "ipython",
    "version": 3
   },
   "file_extension": ".py",
   "mimetype": "text/x-python",
   "name": "python",
   "nbconvert_exporter": "python",
   "pygments_lexer": "ipython3",
   "version": "3.7.13"
  }
 },
 "nbformat": 4,
 "nbformat_minor": 5
}
