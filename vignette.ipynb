{
 "cells": [
  {
   "cell_type": "markdown",
   "id": "f7cdb6a8",
   "metadata": {},
   "source": [
    "# OntoVAE workflow"
   ]
  },
  {
   "cell_type": "code",
   "execution_count": null,
   "id": "3b445407",
   "metadata": {},
   "outputs": [],
   "source": [
    "# import modules\n",
    "import os\n",
    "from onto_vae.ontobj import *\n",
    "from onto_vae.vae_model import *\n"
   ]
  },
  {
   "cell_type": "markdown",
   "id": "52cd7a7f",
   "metadata": {},
   "source": [
    "## 1. Creation of Ontology object"
   ]
  },
  {
   "cell_type": "markdown",
   "id": "080df092",
   "metadata": {},
   "source": [
    "First, we need to initialize an Ontobj. This is required by OntoVAE to initialize latent space and decoder and train the model. The Ontobj stores information about the used ontology, and also datasets that were matched to this ontology so that they can be used for trainind or passed through the VAE model."
   ]
  },
  {
   "cell_type": "markdown",
   "source": [
    "### process ontology data"
   ],
   "metadata": {
    "collapsed": false
   },
   "id": "ddc654bbe1b1f475"
  },
  {
   "cell_type": "code",
   "execution_count": null,
   "id": "colored-modeling",
   "metadata": {},
   "outputs": [],
   "source": [
    "# initialize the Ontobj\n",
    "# the description should be an identifier, e.g. the ontology used, here: PWO (Pathway Ontology)\n",
    "pwo = Ontobj(description='PWO')"
   ]
  },
  {
   "cell_type": "code",
   "execution_count": null,
   "id": "e3c781a1",
   "metadata": {},
   "outputs": [],
   "source": [
    "# initialize our ontology\n",
    "# obo: path to an obo file\n",
    "# gene_annot: path to a tab separated file with two columns: Genes and Ontology IDs\n",
    "pwo.initialize_dag(obo=data_path() + 'pw.obo',\n",
    "                   gene_annot=data_path() + 'gene_term_mapping.txt')"
   ]
  },
  {
   "cell_type": "markdown",
   "source": [
    "```\n",
    "# fill the basic slots\n",
    "self.annot_base = annot_updated\n",
    "self.genes_base = sorted(list(set(gene_annot.Gene.tolist())))\n",
    "term_dict.update(gene_term_dict)\n",
    "self.graph_base = term_dict\n",
    "\n",
    "```"
   ],
   "metadata": {
    "collapsed": false
   },
   "id": "4d5138c040ef56eb"
  },
  {
   "cell_type": "code",
   "execution_count": null,
   "outputs": [],
   "source": [
    "pwo.annot_base"
   ],
   "metadata": {
    "collapsed": false
   },
   "id": "e3dff7b3388cc478"
  },
  {
   "cell_type": "code",
   "execution_count": null,
   "outputs": [],
   "source": [
    "pwo.genes_base"
   ],
   "metadata": {
    "collapsed": false
   },
   "id": "1e36003fde6aba4b"
  },
  {
   "cell_type": "code",
   "execution_count": null,
   "outputs": [],
   "source": [
    "pwo.graph"
   ],
   "metadata": {
    "collapsed": false
   },
   "id": "85d212e40c3624ec"
  },
  {
   "cell_type": "markdown",
   "source": [
    "### Trim the ontology"
   ],
   "metadata": {
    "collapsed": false
   },
   "id": "3a60ed72f5e96559"
  },
  {
   "cell_type": "code",
   "execution_count": null,
   "id": "ab4f74fe",
   "metadata": {},
   "outputs": [],
   "source": [
    "# trim the ontology\n",
    "pwo.trim_dag(top_thresh=1000, \n",
    "             bottom_thresh=30)"
   ]
  },
  {
   "cell_type": "markdown",
   "source": [
    "```\n",
    "DAG is trimmed based on user-defined thresholds.\n",
    "Trimmed version is saved in the graph, annot and genes slots.\n",
    "# save trimming results in respective slots\n",
    "self.annot[str(top_thresh) + '_' + str(bottom_thresh)] = new_annot\n",
    "self.graph[str(top_thresh) + '_' + str(bottom_thresh)] = term_dict_trim\n",
    "self.genes[str(top_thresh) + '_' + str(bottom_thresh)] = sorted(list(gene_trim.keys()))\n",
    "self.desc_genes[str(top_thresh) + '_' + str(bottom_thresh)] = desc_genes\n",
    "\n",
    "```"
   ],
   "metadata": {
    "collapsed": false
   },
   "id": "13dddaeab3dbf6d5"
  },
  {
   "cell_type": "code",
   "execution_count": null,
   "outputs": [],
   "source": [
    "pwo.graph.keys()"
   ],
   "metadata": {
    "collapsed": false
   },
   "id": "7be979baaaff79ab"
  },
  {
   "cell_type": "code",
   "execution_count": null,
   "outputs": [],
   "source": [
    "pwo.graph['1000_30']"
   ],
   "metadata": {
    "collapsed": false
   },
   "id": "6fea17bc50e3133e"
  },
  {
   "cell_type": "markdown",
   "source": [
    "### Visualize the ontolology"
   ],
   "metadata": {
    "collapsed": false
   },
   "id": "5be375366e8e2071"
  },
  {
   "cell_type": "code",
   "outputs": [],
   "source": [
    "ontology_dict = pwo.graph['1000_30']\n",
    "visualize_ontology(ontology_dict,max_depth=5, sample_size=20)"
   ],
   "metadata": {
    "collapsed": false
   },
   "id": "da6cce8f12c6c476",
   "execution_count": null
  },
  {
   "cell_type": "markdown",
   "source": [
    "### Creat binary masks"
   ],
   "metadata": {
    "collapsed": false
   },
   "id": "fd6b8b1a6364742b"
  },
  {
   "cell_type": "markdown",
   "source": [
    "We make a list of binary mask for all possible depth combos. Each of binary mask is a binary matrix for every elements within that depth combo, `0` for child-parent relationship, `1` for no child-parent relationship."
   ],
   "metadata": {
    "collapsed": false
   },
   "id": "46a2cfc0e9382c24"
  },
  {
   "cell_type": "code",
   "execution_count": null,
   "outputs": [],
   "source": [
    "# create masks for decoder initialization\n",
    "pwo.create_masks(top_thresh=1000,\n",
    "                 bottom_thresh=30)"
   ],
   "metadata": {
    "collapsed": false
   },
   "id": "d3519575d2c6c87f"
  },
  {
   "cell_type": "code",
   "outputs": [],
   "source": [
    "decoder_mask = pwo.masks['1000_30']['decoder']\n"
   ],
   "metadata": {
    "collapsed": false
   },
   "id": "2eec6e2986da906b",
   "execution_count": null
  },
  {
   "cell_type": "markdown",
   "source": [
    "### Match datasets"
   ],
   "metadata": {
    "collapsed": false
   },
   "id": "4400fc1d42875315"
  },
  {
   "cell_type": "code",
   "execution_count": null,
   "id": "05c50018",
   "metadata": {},
   "outputs": [],
   "source": [
    "# match a dataset to the ontology\n",
    "# expr_path: path to the dataset (either h5ad)\n",
    "pwo.match_dataset(expr_data = data_path() + 'pbmc_sample_expr.csv',\n",
    "                  name='PBMC_CD4T')"
   ]
  },
  {
   "cell_type": "markdown",
   "id": "7bf2c97a",
   "metadata": {
    "ExecuteTime": {
     "end_time": "2025-02-01T15:35:23.452382Z",
     "start_time": "2025-02-01T15:35:23.203131Z"
    }
   },
   "source": [
    "## 2. OntoVAE model training"
   ]
  },
  {
   "cell_type": "code",
   "execution_count": null,
   "id": "d36a52c8",
   "metadata": {},
   "outputs": [],
   "source": [
    "# initialize OntoVAE \n",
    "pwo_model = OntoVAE(ontobj=pwo,              # the Ontobj we will use\n",
    "                    dataset='PBMC_CD4T',     # which dataset from the Ontobj to use for model training\n",
    "                    top_thresh=1000,         # which trimmed version to use\n",
    "                    bottom_thresh=30)        # which trimmed version to use     \n",
    "pwo_model.to(pwo_model.device)         "
   ]
  },
  {
   "cell_type": "code",
   "execution_count": null,
   "id": "c2d90bdc",
   "metadata": {},
   "outputs": [],
   "source": [
    "# generate a directory where to store the best model\n",
    "if not os.path.isdir(os.getcwd() + '/models'):\n",
    "    os.mkdir(os.getcwd() + '/models')"
   ]
  },
  {
   "cell_type": "code",
   "execution_count": null,
   "id": "1dcaf87f",
   "metadata": {},
   "outputs": [],
   "source": [
    "# train the model\n",
    "pwo_model.train_model(os.getcwd() + '/models/best_model.pt',   # where to store the best model\n",
    "                     lr=1e-4,                                 # the learning rate\n",
    "                     kl_coeff=1e-4,                           # the weighting coefficient for the Kullback Leibler loss\n",
    "                     batch_size=128,                          # the size of the minibatches\n",
    "                     epochs=5)                                # over how many epochs to train                               # whether run should be logged to Neptune"
   ]
  },
  {
   "cell_type": "markdown",
   "id": "3aeb28f0",
   "metadata": {},
   "source": [
    "## 3. Analysis with OntoVAE model (pathway activities + perturbations)"
   ]
  },
  {
   "cell_type": "markdown",
   "id": "a77c9369",
   "metadata": {},
   "source": [
    "We can use a trained OntoVAE model to retrieve pathway activities from latent space and decoder, but also to perform in silico perturbations prior to retrieving the pathway activities."
   ]
  },
  {
   "cell_type": "code",
   "execution_count": null,
   "id": "3f4a44bc",
   "metadata": {},
   "outputs": [],
   "source": [
    "# load the best model\n",
    "checkpoint = torch.load(os.getcwd() + '/models/best_model.pt',\n",
    "                        map_location = torch.device(pwo_model.device), \n",
    "                        weights_only=True)\n",
    "pwo_model.load_state_dict(checkpoint['model_state_dict'])"
   ]
  },
  {
   "cell_type": "code",
   "execution_count": null,
   "id": "5227b7ea",
   "metadata": {},
   "outputs": [],
   "source": [
    "# retrieve pathway activities\n",
    "pwo_act = pwo_model.get_pathway_activities(ontobj=pwo,\n",
    "                                           dataset='PBMC_CD4T')"
   ]
  },
  {
   "cell_type": "markdown",
   "id": "cc596fa9",
   "metadata": {},
   "source": [
    "We can use a function of the Ontobj to make an example scatterplot for two pathways of our choice."
   ]
  },
  {
   "cell_type": "code",
   "execution_count": null,
   "id": "0fcfa78a",
   "metadata": {},
   "outputs": [],
   "source": [
    "# make scatterplot for two pathway activities\n",
    "pwo.plot_scatter(sample_annot = data_path() + 'pbmc_sample_annot.csv',   # pandas Dataframe or path to annotation file\n",
    "                 color_by = 'condition',                                 # variable to use for coloring\n",
    "                 act = pwo_act,                                          # pathway activities computed from OntoVAE model\n",
    "                 term1 = 'interferon mediated signaling pathway',        # term on x-axis of scatter plot\n",
    "                 term2 = 'T cell receptor signaling pathway',            # term on y-axis of scatter plot\n",
    "                 top_thresh = 1000,                                      # which trimmed version to use\n",
    "                 bottom_thresh = 30)                                     # which trimmed version to use\n",
    "\n",
    "# Note that the scatterplot displayed in the vignette was trained over 200 epochs!"
   ]
  },
  {
   "cell_type": "markdown",
   "id": "70d3fce5",
   "metadata": {},
   "source": [
    "We can now perform in silico perturbations and Wilcoxon tests to see which terms are influenced most."
   ]
  },
  {
   "cell_type": "code",
   "execution_count": null,
   "id": "6b64ebc0",
   "metadata": {},
   "outputs": [],
   "source": [
    "# get pathway activities where ISG15 was perturbed\n",
    "pwo_ko_act = pwo_model.perturbation(ontobj=pwo,\n",
    "                                    dataset='PBMC_CD4T',\n",
    "                                    genes=['ISG15'],        # list of genes to be perturbed\n",
    "                                    values=[0])             # list of new values for the genes"
   ]
  },
  {
   "cell_type": "markdown",
   "id": "67e9a470",
   "metadata": {},
   "source": [
    "We can use a function of the Ontobj to perform a paired Wilcoxon test between perturbed and non-perturbed for all terms of the ontology and get a ranked dataframe"
   ]
  },
  {
   "cell_type": "code",
   "execution_count": null,
   "id": "0b376cb0",
   "metadata": {},
   "outputs": [],
   "source": [
    "# perform paired Wilcoxon test\n",
    "results = pwo.wilcox_test(control = pwo_act,\n",
    "                          perturbed = pwo_ko_act,\n",
    "                          direction = 'down',\n",
    "                          top_thresh=1000,\n",
    "                          bottom_thresh=30)"
   ]
  },
  {
   "cell_type": "code",
   "execution_count": null,
   "id": "adca4442",
   "metadata": {},
   "outputs": [],
   "source": [
    "# display the top results\n",
    "results.head(10)"
   ]
  },
  {
   "cell_type": "markdown",
   "id": "8940e125",
   "metadata": {},
   "source": [
    "We see that when we modulate ISG15 expression, our top hits are all pathways related to the immune response!"
   ]
  },
  {
   "cell_type": "code",
   "execution_count": null,
   "id": "844d16bb",
   "metadata": {},
   "outputs": [],
   "source": []
  }
 ],
 "metadata": {
  "kernelspec": {
   "display_name": "Python 3 (ipykernel)",
   "language": "python",
   "name": "python3"
  },
  "language_info": {
   "codemirror_mode": {
    "name": "ipython",
    "version": 3
   },
   "file_extension": ".py",
   "mimetype": "text/x-python",
   "name": "python",
   "nbconvert_exporter": "python",
   "pygments_lexer": "ipython3",
   "version": "3.7.13"
  }
 },
 "nbformat": 4,
 "nbformat_minor": 5
}
